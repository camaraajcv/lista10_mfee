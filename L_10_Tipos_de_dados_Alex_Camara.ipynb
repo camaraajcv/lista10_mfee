{
  "cells": [
    {
      "cell_type": "markdown",
      "metadata": {
        "id": "m3z9ufPUY0bU"
      },
      "source": [
        "## Tipos de dados\n",
        "\n",
        "### Python como uma calculadora\n",
        "\n",
        "Considere as seguintes variáveis:"
      ]
    },
    {
      "cell_type": "code",
      "execution_count": 3,
      "metadata": {
        "id": "wD5kLaxvY0bX"
      },
      "outputs": [],
      "source": [
        "a = 123\n",
        "b = 456"
      ]
    },
    {
      "cell_type": "markdown",
      "metadata": {
        "id": "MqZ7yuQgY0ba"
      },
      "source": [
        "Calcule:\n",
        "\n",
        "1. $a + b$"
      ]
    },
    {
      "cell_type": "code",
      "execution_count": 4,
      "metadata": {
        "id": "qGR1zel-Y0ba",
        "outputId": "a06d0b6c-9d00-4c66-ca18-39dc01e2f1eb",
        "colab": {
          "base_uri": "https://localhost:8080/"
        }
      },
      "outputs": [
        {
          "output_type": "execute_result",
          "data": {
            "text/plain": [
              "579"
            ]
          },
          "metadata": {},
          "execution_count": 4
        }
      ],
      "source": [
        "a + b\n"
      ]
    },
    {
      "cell_type": "markdown",
      "metadata": {
        "id": "bmJk9o91Y0bb"
      },
      "source": [
        "2. $a - b$"
      ]
    },
    {
      "cell_type": "code",
      "execution_count": 5,
      "metadata": {
        "id": "HgJssUGsY0bb",
        "outputId": "a05bf3d1-f54f-40f5-c332-a0d2fa3d6cd3",
        "colab": {
          "base_uri": "https://localhost:8080/"
        }
      },
      "outputs": [
        {
          "output_type": "execute_result",
          "data": {
            "text/plain": [
              "-333"
            ]
          },
          "metadata": {},
          "execution_count": 5
        }
      ],
      "source": [
        "a-b\n"
      ]
    },
    {
      "cell_type": "markdown",
      "metadata": {
        "id": "hl1OfCe4Y0bc"
      },
      "source": [
        "3. $a \\cdot b$"
      ]
    },
    {
      "cell_type": "code",
      "execution_count": 6,
      "metadata": {
        "id": "rkpjtBowY0bc",
        "outputId": "ab0d0087-8306-4947-e541-ca095d713b3b",
        "colab": {
          "base_uri": "https://localhost:8080/"
        }
      },
      "outputs": [
        {
          "output_type": "execute_result",
          "data": {
            "text/plain": [
              "56088"
            ]
          },
          "metadata": {},
          "execution_count": 6
        }
      ],
      "source": [
        "a*b\n"
      ]
    },
    {
      "cell_type": "markdown",
      "metadata": {
        "id": "BCs-KE-gY0bc"
      },
      "source": [
        "4. $a^b$"
      ]
    },
    {
      "cell_type": "code",
      "execution_count": 7,
      "metadata": {
        "id": "QhlQPC3MY0bd",
        "outputId": "f436e322-0917-4e7c-9ec6-08fc9fc18627",
        "colab": {
          "base_uri": "https://localhost:8080/"
        }
      },
      "outputs": [
        {
          "output_type": "execute_result",
          "data": {
            "text/plain": [
              "99250068772098856700831462057469632637295940819886900519816298881382867104749399077921128661426144638055424236936271872492800352741649902118143819672601569998100120790496759517636465445895625741609866209900500198407153244604778968016963028050310261417615914468729918240685487878617645976939063464357986165711730976399478507649228686341466967167910126653342134942744851463899927487092486610977146112763567101672645953132196481439339873017088140414661271198500333255713096142335151414630651683065518784081203678487703002802082091236603519026256880624499681781387227574035484831271515683123742149095569260463609655977700938844580611931246495166208695540313698140011638027322566252689780838136351828795314272162111222231170901715612355701347552371530013693855379834865667060014643302459100429783653966913783002290784283455628283355470529932956051484477129333881159930212758687602795088579230431661696010232187390436601614145603241902386663442520160735566561"
            ]
          },
          "metadata": {},
          "execution_count": 7
        }
      ],
      "source": [
        "a**b\n"
      ]
    },
    {
      "cell_type": "markdown",
      "metadata": {
        "id": "OSSqQgCZY0bd"
      },
      "source": [
        "5. \n",
        "$\\frac{a}{b}$"
      ]
    },
    {
      "cell_type": "code",
      "execution_count": 8,
      "metadata": {
        "id": "pqGiN-DXY0bd",
        "outputId": "4ad5ef86-ef64-45ef-9849-00ece001d206",
        "colab": {
          "base_uri": "https://localhost:8080/"
        }
      },
      "outputs": [
        {
          "output_type": "execute_result",
          "data": {
            "text/plain": [
              "0.26973684210526316"
            ]
          },
          "metadata": {},
          "execution_count": 8
        }
      ],
      "source": [
        "a/b\n"
      ]
    },
    {
      "cell_type": "markdown",
      "metadata": {
        "id": "WHjXWet1Y0be"
      },
      "source": [
        "6. O resto da divisão de b por a"
      ]
    },
    {
      "cell_type": "code",
      "execution_count": 9,
      "metadata": {
        "id": "rfwtfz-PY0be",
        "outputId": "214fe465-acbf-4032-dcc8-df4a53228180",
        "colab": {
          "base_uri": "https://localhost:8080/"
        }
      },
      "outputs": [
        {
          "output_type": "execute_result",
          "data": {
            "text/plain": [
              "87"
            ]
          },
          "metadata": {},
          "execution_count": 9
        }
      ],
      "source": [
        "b%a\n"
      ]
    },
    {
      "cell_type": "markdown",
      "metadata": {
        "id": "eJnRNwtGY0be"
      },
      "source": [
        "7. A parte inteira da divisão de b por a"
      ]
    },
    {
      "cell_type": "code",
      "execution_count": 10,
      "metadata": {
        "id": "-WJiP6oVY0bf",
        "outputId": "892a506a-8fbe-43e0-b370-bda4b8550cd4",
        "colab": {
          "base_uri": "https://localhost:8080/"
        }
      },
      "outputs": [
        {
          "output_type": "execute_result",
          "data": {
            "text/plain": [
              "3"
            ]
          },
          "metadata": {},
          "execution_count": 10
        }
      ],
      "source": [
        "b//a\n"
      ]
    },
    {
      "cell_type": "markdown",
      "metadata": {
        "id": "wTgugpgAY0bf"
      },
      "source": [
        "8. Verdadeiro ou falso? $a^b > b^a$"
      ]
    },
    {
      "cell_type": "code",
      "execution_count": 11,
      "metadata": {
        "id": "17YQ1yTeY0bf",
        "outputId": "1182ca90-f08c-44b1-fd72-a73c73e5bb5f",
        "colab": {
          "base_uri": "https://localhost:8080/"
        }
      },
      "outputs": [
        {
          "output_type": "execute_result",
          "data": {
            "text/plain": [
              "True"
            ]
          },
          "metadata": {},
          "execution_count": 11
        }
      ],
      "source": [
        "a**b>b**a\n"
      ]
    },
    {
      "cell_type": "markdown",
      "metadata": {
        "id": "CgJxAAy9Y0bf"
      },
      "source": [
        "### A rose by any other name would smell as sweet\n",
        "\n",
        "1. Crie uma variável _a_ que contenha um integer 1. Use o comando `type` para mostrar que _a_ é um integer."
      ]
    },
    {
      "cell_type": "code",
      "execution_count": 12,
      "metadata": {
        "id": "y0hrw4oxY0bg",
        "outputId": "0c73f893-e1dd-4ac2-f5a5-7e49b4fd3f86",
        "colab": {
          "base_uri": "https://localhost:8080/"
        }
      },
      "outputs": [
        {
          "output_type": "execute_result",
          "data": {
            "text/plain": [
              "int"
            ]
          },
          "metadata": {},
          "execution_count": 12
        }
      ],
      "source": [
        "a=1\n",
        "type(a)\n"
      ]
    },
    {
      "cell_type": "markdown",
      "metadata": {
        "id": "HxdNlFBFY0bg"
      },
      "source": [
        "2. Crie uma variável _b_ que contenha um float 1. Use o comando `type` para mostrar que _a_ é um float."
      ]
    },
    {
      "cell_type": "code",
      "execution_count": 13,
      "metadata": {
        "id": "bTamN5ocY0bg",
        "outputId": "816801ff-335c-4310-b39b-cfaf02f4b8f8",
        "colab": {
          "base_uri": "https://localhost:8080/"
        }
      },
      "outputs": [
        {
          "output_type": "execute_result",
          "data": {
            "text/plain": [
              "float"
            ]
          },
          "metadata": {},
          "execution_count": 13
        }
      ],
      "source": [
        "b=1.0\n",
        "type(b)\n"
      ]
    },
    {
      "cell_type": "markdown",
      "metadata": {
        "id": "kAyB96BsY0bh"
      },
      "source": [
        "3. Crie uma variável _c_ que contenha um string 1. Use o comando `type` para mostrar que _a_ é um string."
      ]
    },
    {
      "cell_type": "code",
      "execution_count": 14,
      "metadata": {
        "id": "VuHDdL-UY0bh",
        "outputId": "f32132d0-903e-48f0-f1be-2816922d07c7",
        "colab": {
          "base_uri": "https://localhost:8080/"
        }
      },
      "outputs": [
        {
          "output_type": "execute_result",
          "data": {
            "text/plain": [
              "str"
            ]
          },
          "metadata": {},
          "execution_count": 14
        }
      ],
      "source": [
        "c='1'\n",
        "type(c)\n"
      ]
    },
    {
      "cell_type": "markdown",
      "metadata": {
        "id": "r2E8zwdiY0bh"
      },
      "source": [
        "### Operações com strings\n",
        "\n",
        "1. Use as variáveis abaixo e uma operação matemática para fazer o nome de uma cantora."
      ]
    },
    {
      "cell_type": "code",
      "execution_count": 16,
      "metadata": {
        "id": "H2HtcMTQY0bh"
      },
      "outputs": [],
      "source": [
        "a = 'Lady'\n",
        "b = ' '\n",
        "c = 'Gaga'"
      ]
    },
    {
      "cell_type": "code",
      "execution_count": 17,
      "metadata": {
        "id": "snkqySqQY0bi",
        "outputId": "bccc95f2-60d4-4ee9-b0be-152f17c14e73",
        "colab": {
          "base_uri": "https://localhost:8080/",
          "height": 35
        }
      },
      "outputs": [
        {
          "output_type": "execute_result",
          "data": {
            "text/plain": [
              "'Lady Gaga'"
            ],
            "application/vnd.google.colaboratory.intrinsic+json": {
              "type": "string"
            }
          },
          "metadata": {},
          "execution_count": 17
        }
      ],
      "source": [
        "a+b+c\n"
      ]
    },
    {
      "cell_type": "markdown",
      "metadata": {
        "id": "-osJsTsbY0bi"
      },
      "source": [
        "2.Use as variáveis abaixo para escrever a frase: \"in the shalalalalalalow\""
      ]
    },
    {
      "cell_type": "code",
      "execution_count": 18,
      "metadata": {
        "id": "h2Y9i9InY0bi"
      },
      "outputs": [],
      "source": [
        "a = 'in the sha'\n",
        "b = 'la'\n",
        "c = 'low'"
      ]
    },
    {
      "cell_type": "code",
      "execution_count": 19,
      "metadata": {
        "id": "ye3038oYY0bj",
        "outputId": "4fd7ba2f-eef1-48a3-87ee-b020fcf42f6a",
        "colab": {
          "base_uri": "https://localhost:8080/",
          "height": 35
        }
      },
      "outputs": [
        {
          "output_type": "execute_result",
          "data": {
            "text/plain": [
              "'in the shalalalalalalow'"
            ],
            "application/vnd.google.colaboratory.intrinsic+json": {
              "type": "string"
            }
          },
          "metadata": {},
          "execution_count": 19
        }
      ],
      "source": [
        "\n",
        "a+b*5+c"
      ]
    },
    {
      "cell_type": "markdown",
      "metadata": {
        "id": "48gjsPvnY0bj"
      },
      "source": [
        "3. A variável `letra` é um string que contém a letra de _Shallow_. Use a função `len` para contar quantos caracteres a letra tem"
      ]
    },
    {
      "cell_type": "code",
      "execution_count": 20,
      "metadata": {
        "id": "xRE5dnPBY0bj"
      },
      "outputs": [],
      "source": [
        "letra = '''Tell me somethin', girl\n",
        "Are you happy in this modern world?\n",
        "Or do you need more?\n",
        "Is there somethin' else you're searchin' for?\n",
        "\n",
        "I'm fallin'\n",
        "In all the good times I find myself longin' for change\n",
        "And in the bad times, I fear myself\n",
        "\n",
        "Tell me something, boy\n",
        "Aren't you tired tryin' to fill that void?\n",
        "Or do you need more?\n",
        "Ain't it hard keepin' it so hardcore?\n",
        "\n",
        "I'm falling\n",
        "In all the good times I find myself longing for change\n",
        "And in the bad times, I fear myself\n",
        "\n",
        "I'm off the deep end, watch as I dive in\n",
        "I'll never meet the ground\n",
        "Crash through the surface, where they can't hurt us\n",
        "We're far from the shallow now\n",
        "\n",
        "In the sha-ha-sha-ha-llow\n",
        "In the sha-ha-sha-la-la-la-llow\n",
        "In the sha-ha-sha-ha-llow\n",
        "We're far from the shallow now\n",
        "\n",
        "Oh, ha-ah-ah\n",
        "Ah, ha-ah-ah, oh, ah\n",
        "Ha-ah-ah-ah\n",
        "\n",
        "I'm off the deep end, watch as I dive in\n",
        "I'll never meet the ground\n",
        "Crash through the surface, where they can't hurt us\n",
        "We're far from the shallow now\n",
        "\n",
        "In the sha-ha-sha-ha-llow\n",
        "In the sha-ha-sha-la-la-la-llow\n",
        "In the sha-ha-sha-ha-llow\n",
        "We're far from the shallow now'''"
      ]
    },
    {
      "cell_type": "code",
      "execution_count": 21,
      "metadata": {
        "id": "ZAvTz2v7Y0bk",
        "outputId": "57293b3b-f0da-435d-ab63-d4267428bb97",
        "colab": {
          "base_uri": "https://localhost:8080/"
        }
      },
      "outputs": [
        {
          "output_type": "execute_result",
          "data": {
            "text/plain": [
              "1043"
            ]
          },
          "metadata": {},
          "execution_count": 21
        }
      ],
      "source": [
        "len(letra)\n"
      ]
    },
    {
      "cell_type": "markdown",
      "metadata": {
        "id": "sG_qfXXMY0bk"
      },
      "source": [
        "4. Selecione os últimos 30 caracteres da letra (isso é, do caracter 1013, até o final)."
      ]
    },
    {
      "cell_type": "code",
      "execution_count": 23,
      "metadata": {
        "id": "SuYIHgFbY0bk",
        "outputId": "4724fe18-a3ce-409e-972d-70462c2857cd",
        "colab": {
          "base_uri": "https://localhost:8080/",
          "height": 35
        }
      },
      "outputs": [
        {
          "output_type": "execute_result",
          "data": {
            "text/plain": [
              "\"We're far from the shallow now\""
            ],
            "application/vnd.google.colaboratory.intrinsic+json": {
              "type": "string"
            }
          },
          "metadata": {},
          "execution_count": 23
        }
      ],
      "source": [
        "letra[1013:1044]\n"
      ]
    },
    {
      "cell_type": "markdown",
      "metadata": {
        "id": "edHEP41AY0bl"
      },
      "source": [
        "### Formatação de strings\n",
        "\n",
        "Em Data Science, é comum querermos mostrar na tela um string com os resultados do modelo. Algo do tipo:\n",
        "\n",
        "> Modelo 1: Precisao = 91.3%. Acurácia = 90.1%\n",
        "\n",
        "Use as informações abaixo para construir um string como o acima. Use 1 casa decimal e exprima os resultados como porcentagens."
      ]
    },
    {
      "cell_type": "code",
      "execution_count": 24,
      "metadata": {
        "id": "awkvE6ipY0bl"
      },
      "outputs": [],
      "source": [
        "modelo = 1\n",
        "precisao = 91.310579284\n",
        "acuracia = 90.102378192"
      ]
    },
    {
      "cell_type": "code",
      "execution_count": 28,
      "metadata": {
        "id": "6V70g-4VY0bl",
        "outputId": "296662a8-53eb-4950-de59-c2e612e58a6a",
        "colab": {
          "base_uri": "https://localhost:8080/",
          "height": 35
        }
      },
      "outputs": [
        {
          "output_type": "execute_result",
          "data": {
            "text/plain": [
              "'Modelo 1: Precisão: 91.3%. Acurácia = 90.1%.'"
            ],
            "application/vnd.google.colaboratory.intrinsic+json": {
              "type": "string"
            }
          },
          "metadata": {},
          "execution_count": 28
        }
      ],
      "source": [
        "string='Modelo '+str(modelo)+': Precisão: ' + str(round(precisao,1))+'%. Acurácia = ' + str(round(acuracia,1)) + '%.'\n",
        "string\n"
      ]
    }
  ],
  "metadata": {
    "kernelspec": {
      "display_name": "Python 3",
      "language": "python",
      "name": "python3"
    },
    "language_info": {
      "codemirror_mode": {
        "name": "ipython",
        "version": 3
      },
      "file_extension": ".py",
      "mimetype": "text/x-python",
      "name": "python",
      "nbconvert_exporter": "python",
      "pygments_lexer": "ipython3",
      "version": "3.8.3"
    },
    "colab": {
      "provenance": []
    }
  },
  "nbformat": 4,
  "nbformat_minor": 0
}